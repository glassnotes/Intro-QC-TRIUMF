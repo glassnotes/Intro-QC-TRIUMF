{
 "cells": [
  {
   "cell_type": "markdown",
   "metadata": {},
   "source": [
    "# Solving vertex cover with a quantum annealer"
   ]
  },
  {
   "cell_type": "markdown",
   "metadata": {},
   "source": [
    "The problem of vertex cover is, given an undirected graph $G = (V, E)$, colour the smallest amount of vertices such that each edge $e \\in E$ is connected to a coloured vertex.\n",
    "\n",
    "This notebooks works through the process of creating a random graph, translating to an optimization problem, and eventually finding the ground state using a quantum annealer."
   ]
  },
  {
   "cell_type": "markdown",
   "metadata": {},
   "source": [
    "### Graph setup"
   ]
  },
  {
   "cell_type": "markdown",
   "metadata": {},
   "source": [
    "The first thing we will do is create an instance of the problem, by constructing a small, random undirected graph. We are going to use the `networkx` package, which should already be installed if you have installed if you are using Anaconda."
   ]
  },
  {
   "cell_type": "code",
   "execution_count": null,
   "metadata": {},
   "outputs": [],
   "source": [
    "import dimod\n",
    "import networkx as nx\n",
    "import matplotlib.pyplot as plt\n",
    "import numpy as np"
   ]
  },
  {
   "cell_type": "code",
   "execution_count": null,
   "metadata": {},
   "outputs": [],
   "source": [
    "n_vertices = 5\n",
    "n_edges = 6\n",
    "\n",
    "small_graph = nx.gnm_random_graph(n_vertices, n_edges)"
   ]
  },
  {
   "cell_type": "code",
   "execution_count": null,
   "metadata": {},
   "outputs": [],
   "source": [
    "nx.draw(small_graph, with_labels=True)"
   ]
  },
  {
   "cell_type": "markdown",
   "metadata": {},
   "source": [
    "### Constructing the Hamiltonian"
   ]
  },
  {
   "cell_type": "markdown",
   "metadata": {},
   "source": [
    "I showed in class that the objective function for vertex cover looks like this:\n",
    "\\begin{equation}\n",
    " \\sum_{(u,v) \\in E} (1 - x_u) (1 - x_v) + \\gamma \\sum_{v \\in V} x_v\n",
    "\\end{equation}\n",
    "We want to find an assignment of the $x_u$ of 1 (coloured) or 0 (uncoloured) that _minimizes_ this function. The first sum tries to force us to choose an assignment that makes sure every edge gets attached to a coloured vertex. The second sum is essentially just counting the number of coloured vertices.\n",
    "\n",
    "**Task**: Expand out the QUBO above to see how you can convert it to a more 'traditional' looking QUBO:\n",
    "\\begin{equation}\n",
    " \\sum_{(u,v) \\in E} x_u x_v + \\sum_{v \\in V} (\\gamma - \\text{deg}(x_v)) x_v\n",
    "\\end{equation}\n",
    "where deg($x_v$) indicates the degree of vertex $x_v$ in the graph."
   ]
  },
  {
   "cell_type": "code",
   "execution_count": null,
   "metadata": {},
   "outputs": [],
   "source": [
    "γ = 0.8\n",
    "Q = {x : 1 for x in small_graph.edges()}\n",
    "r = {x : (γ - small_graph.degree[x]) for x in small_graph.nodes}"
   ]
  },
  {
   "cell_type": "markdown",
   "metadata": {},
   "source": [
    "Let's convert it to the appropriate data structure, and solve using the exact solver. "
   ]
  },
  {
   "cell_type": "code",
   "execution_count": null,
   "metadata": {},
   "outputs": [],
   "source": [
    "bqm = dimod.BinaryQuadraticModel(r, Q, 0, dimod.BINARY)\n",
    "response = dimod.ExactSolver().sample(bqm)\n",
    "print(f\"Sample energy = {next(response.data(['energy']))[0]}\")"
   ]
  },
  {
   "cell_type": "markdown",
   "metadata": {},
   "source": [
    "Let's print the graph with proper colours included"
   ]
  },
  {
   "cell_type": "code",
   "execution_count": null,
   "metadata": {},
   "outputs": [],
   "source": [
    "colour_assignments = next(response.data(['sample']))[0]\n",
    "colours = ['grey' if colour_assignments[x] == 0 else 'red' for x in range(len(colour_assignments))]\n",
    "\n",
    "nx.draw(small_graph, with_labels=True, node_color=colours)"
   ]
  },
  {
   "cell_type": "markdown",
   "metadata": {},
   "source": [
    "### Scaling up..."
   ]
  },
  {
   "cell_type": "markdown",
   "metadata": {},
   "source": [
    "That one was easy enough to solve by hand. Let's try a much larger instance..."
   ]
  },
  {
   "cell_type": "code",
   "execution_count": null,
   "metadata": {},
   "outputs": [],
   "source": [
    "n_vertices = 20\n",
    "n_edges = 60\n",
    "\n",
    "large_graph = nx.gnm_random_graph(n_vertices, n_edges)\n",
    "nx.draw(large_graph, with_labels=True)"
   ]
  },
  {
   "cell_type": "code",
   "execution_count": null,
   "metadata": {},
   "outputs": [],
   "source": [
    "# Create h, J and put it into the exact solver\n",
    "γ = 0.8\n",
    "Q = {x : 1 for x in large_graph.edges()}\n",
    "r = {x : (γ - large_graph.degree[x]) for x in large_graph.nodes}\n",
    "\n",
    "bqm = dimod.BinaryQuadraticModel(r, Q, 0, dimod.BINARY)\n",
    "response = dimod.ExactSolver().sample(bqm)\n",
    "print(f\"Sample energy = {next(response.data(['energy']))[0]}\")\n",
    "      \n",
    "colour_assignments = next(response.data(['sample']))[0]\n",
    "colours = ['grey' if colour_assignments[x] == 0 else 'red' for x in range(len(colour_assignments))]\n",
    "\n",
    "nx.draw(large_graph, with_labels=True, node_color=colours)\n",
    "print(f\"Coloured {list(colour_assignments.values()).count(1)}/{n_vertices} vertices.\")"
   ]
  },
  {
   "cell_type": "markdown",
   "metadata": {},
   "source": [
    "### Running on the D-Wave"
   ]
  },
  {
   "cell_type": "markdown",
   "metadata": {},
   "source": [
    "You'll only be able to run the next few cells if you have D-Wave access. We will send the same graph as before to the D-Wave QPU and see what kind of results we get back!"
   ]
  },
  {
   "cell_type": "code",
   "execution_count": null,
   "metadata": {},
   "outputs": [],
   "source": [
    "from dwave.system.samplers import DWaveSampler\n",
    "from dwave.system.composites import EmbeddingComposite\n",
    "\n",
    "sampler = EmbeddingComposite(DWaveSampler())"
   ]
  },
  {
   "cell_type": "code",
   "execution_count": null,
   "metadata": {},
   "outputs": [],
   "source": [
    "ising_conversion = bqm.to_ising()\n",
    "h, J = ising_conversion[0], ising_conversion[1]\n",
    "response = sampler.sample_ising(h, J, num_reads = 1000)"
   ]
  },
  {
   "cell_type": "code",
   "execution_count": null,
   "metadata": {},
   "outputs": [],
   "source": [
    "best_solution =np.sort(response.record, order='energy')[0]"
   ]
  },
  {
   "cell_type": "code",
   "execution_count": null,
   "metadata": {},
   "outputs": [],
   "source": [
    "print(f\"Sample energy = {best_solution['energy']}\")\n",
    "      \n",
    "colour_assignments_qpu = {x : best_solution['sample'][x] for x in range(n_vertices)}\n",
    "for x in range(n_vertices):\n",
    "      if colour_assignments_qpu[x] == -1:\n",
    "          colour_assignments_qpu[x] = 0\n",
    "colours = ['grey' if colour_assignments_qpu[x] == 0 else 'red' for x in range(len(colour_assignments_qpu))]\n",
    "\n",
    "nx.draw(large_graph, with_labels=True, node_color=colours)\n",
    "print(f\"Coloured {list(colour_assignments_qpu.values()).count(1)}/{n_vertices} vertices.\")"
   ]
  },
  {
   "cell_type": "code",
   "execution_count": null,
   "metadata": {},
   "outputs": [],
   "source": [
    "print(\"Node\\tExact\\tQPU\")\n",
    "for x in range(n_vertices):\n",
    "    print(f\"{x}\\t{colour_assignments[x]}\\t{colour_assignments_qpu[x]}\")"
   ]
  },
  {
   "cell_type": "markdown",
   "metadata": {},
   "source": [
    "Here is a scatter plot of all the different energies we got out, against the number of times each solution occurred. "
   ]
  },
  {
   "cell_type": "code",
   "execution_count": null,
   "metadata": {},
   "outputs": [],
   "source": [
    "plt.scatter(response.record['energy'], response.record['num_occurrences'])"
   ]
  },
  {
   "cell_type": "code",
   "execution_count": null,
   "metadata": {},
   "outputs": [],
   "source": [
    "response.record['num_occurrences']"
   ]
  }
 ],
 "metadata": {
  "kernelspec": {
   "display_name": "Python 3",
   "language": "python",
   "name": "python3"
  },
  "language_info": {
   "codemirror_mode": {
    "name": "ipython",
    "version": 3
   },
   "file_extension": ".py",
   "mimetype": "text/x-python",
   "name": "python",
   "nbconvert_exporter": "python",
   "pygments_lexer": "ipython3",
   "version": "3.8.5"
  }
 },
 "nbformat": 4,
 "nbformat_minor": 4
}
